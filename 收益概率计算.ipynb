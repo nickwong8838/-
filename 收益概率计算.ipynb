{
  "cells": [
    {
      "cell_type": "markdown",
      "metadata": {
        "id": "view-in-github",
        "colab_type": "text"
      },
      "source": [
        "<a href=\"https://colab.research.google.com/github/nickwong8838/-/blob/main/%E6%94%B6%E7%9B%8A%E6%A6%82%E7%8E%87%E8%AE%A1%E7%AE%97.ipynb\" target=\"_parent\"><img src=\"https://colab.research.google.com/assets/colab-badge.svg\" alt=\"Open In Colab\"/></a>"
      ]
    },
    {
      "cell_type": "code",
      "source": [
        "import numpy as np\n",
        "from scipy.stats import norm\n",
        "\n",
        "def calculate_probabilities(mean_return, std_dev, current_return):\n",
        "    # 计算上升概率\n",
        "    p_up = 1 - norm.cdf(current_return, loc=mean_return, scale=std_dev)\n",
        "    # 计算下跌概率\n",
        "    p_down = norm.cdf(current_return, loc=mean_return, scale=std_dev)\n",
        "\n",
        "    return p_up, p_down\n",
        "\n",
        "# 示例数据\n",
        "mean_return = 0.0346 # 历史平均收益率\n",
        "std_dev = 0.0449   # 历史标准差\n",
        "current_return = 0.02  # 今年的表现\n",
        "\n",
        "# 计算概率\n",
        "probabilities = calculate_probabilities(mean_return, std_dev, current_return)\n",
        "print(f\"上升概率: {probabilities[0]:.2%}, 下跌概率: {probabilities[1]:.2%}\")"
      ],
      "metadata": {
        "colab": {
          "base_uri": "https://localhost:8080/"
        },
        "id": "5uQrhkNYQkUd",
        "outputId": "52f1c60d-d9a2-4ad5-ec2b-488861aeb07a"
      },
      "execution_count": null,
      "outputs": [
        {
          "output_type": "stream",
          "name": "stdout",
          "text": [
            "上升概率: 62.75%, 下跌概率: 37.25%\n"
          ]
        }
      ]
    }
  ],
  "metadata": {
    "kernelspec": {
      "display_name": "Python 3 (ipykernel)",
      "language": "python",
      "name": "python3"
    },
    "language_info": {
      "codemirror_mode": {
        "name": "ipython",
        "version": 3
      },
      "file_extension": ".py",
      "mimetype": "text/x-python",
      "name": "python",
      "nbconvert_exporter": "python",
      "pygments_lexer": "ipython3",
      "version": "3.11.0"
    },
    "colab": {
      "provenance": [],
      "include_colab_link": true
    }
  },
  "nbformat": 4,
  "nbformat_minor": 0
}